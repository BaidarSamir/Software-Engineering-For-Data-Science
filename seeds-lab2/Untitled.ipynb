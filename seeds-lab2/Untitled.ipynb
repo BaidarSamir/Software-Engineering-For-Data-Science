{
 "cells": [
  {
   "cell_type": "code",
   "execution_count": 29,
   "id": "328c5f3e-ab0f-4c47-bf21-09f7516ef62d",
   "metadata": {},
   "outputs": [
    {
     "name": "stdout",
     "output_type": "stream",
     "text": [
      "i learned that we dont have to specify data type when initializing data and not all symbol all eligibales as variables names\n"
     ]
    }
   ],
   "source": [
    "my_integer = 3.1428571\n",
    "_my_float = 3.1428571\n",
    "__my_float__ = 3.1428571\n",
    "# €value = 42.95\n",
    "# cost_in_€ = 42.95\n",
    "cost_in_dollars = 42.95\n",
    "# 42.95 = cost_in_dollars\n",
    "# dollar.price = 42.95\n",
    "# favourite#tag = '#like4like'\n",
    "favourite_hashtag = '#일상'\n",
    "my_twit = \"\"\"If you really want to write paragraphs, and paragraphs of text, you do it with the triple quotes. Try it\"\"\"\n",
    "x = y = z = 1\n",
    "a, b, c = 1, 2, 3\n",
    "i, f, s = 42, 12.94, 'spam'\n",
    "# from = 'my friends'\n",
    "# raise = 'your glass'\n",
    "# pass = 'you shall not'\n",
    "fail = 'you will not'\n",
    "# True = 'not False'\n",
    "# pay day = 'Thursday'\n",
    "NA = 'not applicable'\n",
    "a = 42;\n",
    "A = 13\n",
    "\n",
    "print(\"i learned that we dont have to specify data type when initializing data and not all symbol all eligibales as variables names\")"
   ]
  },
  {
   "cell_type": "code",
   "execution_count": null,
   "id": "8dee43d8-b284-4ac5-8a6d-3eeced0684ee",
   "metadata": {},
   "outputs": [],
   "source": []
  }
 ],
 "metadata": {
  "kernelspec": {
   "display_name": "Python 3 (ipykernel)",
   "language": "python",
   "name": "python3"
  },
  "language_info": {
   "codemirror_mode": {
    "name": "ipython",
    "version": 3
   },
   "file_extension": ".py",
   "mimetype": "text/x-python",
   "name": "python",
   "nbconvert_exporter": "python",
   "pygments_lexer": "ipython3",
   "version": "3.12.3"
  }
 },
 "nbformat": 4,
 "nbformat_minor": 5
}
